{
 "cells": [
  {
   "cell_type": "code",
   "execution_count": 2,
   "id": "753bbe76",
   "metadata": {},
   "outputs": [],
   "source": [
    "import pandas as pd\n",
    "import numpy as np\n",
    "import matplotlib.pyplot as plt\n",
    "import seaborn as sns\n",
    "\n"
   ]
  },
  {
   "cell_type": "code",
   "execution_count": 3,
   "id": "7b289b61",
   "metadata": {},
   "outputs": [],
   "source": [
    "#create data drame to read data set\n",
    "df = pd.read_csv('C:/Users/abarn/Downloads/startup/startups_data.csv')"
   ]
  },
  {
   "cell_type": "code",
   "execution_count": 6,
   "id": "13eecaec",
   "metadata": {},
   "outputs": [
    {
     "data": {
      "text/html": [
       "<div>\n",
       "<style scoped>\n",
       "    .dataframe tbody tr th:only-of-type {\n",
       "        vertical-align: middle;\n",
       "    }\n",
       "\n",
       "    .dataframe tbody tr th {\n",
       "        vertical-align: top;\n",
       "    }\n",
       "\n",
       "    .dataframe thead th {\n",
       "        text-align: right;\n",
       "    }\n",
       "</style>\n",
       "<table border=\"1\" class=\"dataframe\">\n",
       "  <thead>\n",
       "    <tr style=\"text-align: right;\">\n",
       "      <th></th>\n",
       "      <th>R&amp;D Spend</th>\n",
       "      <th>Administration</th>\n",
       "      <th>Marketing Spend</th>\n",
       "      <th>State</th>\n",
       "      <th>Profit</th>\n",
       "    </tr>\n",
       "  </thead>\n",
       "  <tbody>\n",
       "    <tr>\n",
       "      <th>0</th>\n",
       "      <td>78051.14365</td>\n",
       "      <td>55537.75251</td>\n",
       "      <td>12770.82</td>\n",
       "      <td>New York</td>\n",
       "      <td>54575.486170</td>\n",
       "    </tr>\n",
       "    <tr>\n",
       "      <th>1</th>\n",
       "      <td>11163.47269</td>\n",
       "      <td>241608.96630</td>\n",
       "      <td>55012.62</td>\n",
       "      <td>New York</td>\n",
       "      <td>-6257.430253</td>\n",
       "    </tr>\n",
       "    <tr>\n",
       "      <th>2</th>\n",
       "      <td>153848.90340</td>\n",
       "      <td>169007.95040</td>\n",
       "      <td>46708.68</td>\n",
       "      <td>Florida</td>\n",
       "      <td>86707.726460</td>\n",
       "    </tr>\n",
       "    <tr>\n",
       "      <th>3</th>\n",
       "      <td>46913.23785</td>\n",
       "      <td>55770.16760</td>\n",
       "      <td>222415.30</td>\n",
       "      <td>California</td>\n",
       "      <td>36073.618930</td>\n",
       "    </tr>\n",
       "    <tr>\n",
       "      <th>4</th>\n",
       "      <td>16844.34943</td>\n",
       "      <td>116066.11220</td>\n",
       "      <td>164528.39</td>\n",
       "      <td>California</td>\n",
       "      <td>24696.317850</td>\n",
       "    </tr>\n",
       "  </tbody>\n",
       "</table>\n",
       "</div>"
      ],
      "text/plain": [
       "      R&D Spend  Administration  Marketing Spend       State        Profit\n",
       "0   78051.14365     55537.75251         12770.82    New York  54575.486170\n",
       "1   11163.47269    241608.96630         55012.62    New York  -6257.430253\n",
       "2  153848.90340    169007.95040         46708.68     Florida  86707.726460\n",
       "3   46913.23785     55770.16760        222415.30  California  36073.618930\n",
       "4   16844.34943    116066.11220        164528.39  California  24696.317850"
      ]
     },
     "execution_count": 6,
     "metadata": {},
     "output_type": "execute_result"
    }
   ],
   "source": [
    "df.head()"
   ]
  },
  {
   "cell_type": "code",
   "execution_count": 5,
   "id": "262cd992",
   "metadata": {},
   "outputs": [
    {
     "data": {
      "text/plain": [
       "<bound method NDFrame.describe of          R&D Spend  Administration  Marketing Spend       State        Profit\n",
       "0     78051.143650     55537.75251         12770.82    New York  54575.486170\n",
       "1     11163.472690    241608.96630         55012.62    New York  -6257.430253\n",
       "2    153848.903400    169007.95040         46708.68     Florida  86707.726460\n",
       "3     46913.237850     55770.16760        222415.30  California  36073.618930\n",
       "4     16844.349430    116066.11220        164528.39  California  24696.317850\n",
       "..             ...             ...              ...         ...           ...\n",
       "395   52507.895240    219465.63110        154298.90  California  49793.819410\n",
       "396    5186.034129     51717.16237        224220.50    New York  12800.153000\n",
       "397   34417.442390    114841.49260         74629.18     Florida  22339.883480\n",
       "398   84856.919170    121000.58900         49356.31  California  33086.305090\n",
       "399   56026.206790    120935.15950         12530.13  California  11315.937930\n",
       "\n",
       "[400 rows x 5 columns]>"
      ]
     },
     "execution_count": 5,
     "metadata": {},
     "output_type": "execute_result"
    }
   ],
   "source": [
    "df.describe"
   ]
  },
  {
   "cell_type": "code",
   "execution_count": 7,
   "id": "ed703719",
   "metadata": {},
   "outputs": [
    {
     "name": "stdout",
     "output_type": "stream",
     "text": [
      "No missing value found\n"
     ]
    }
   ],
   "source": [
    "# find missing values\n",
    "features_na = [features for features in df.columns if df[features].isnull().sum() > 0]\n",
    "for feature in features_na:\n",
    "    print(feature, np.round(df[feature].isnull().mean(), 4),  ' % missing values')\n",
    "else:\n",
    "    print(\"No missing value found\")"
   ]
  },
  {
   "cell_type": "markdown",
   "id": "d92e50b9",
   "metadata": {},
   "source": [
    "take-away\n",
    "No missing value found\n"
   ]
  },
  {
   "cell_type": "markdown",
   "id": "7656ed27",
   "metadata": {},
   "source": [
    "# 3. Find Features with one value"
   ]
  },
  {
   "cell_type": "code",
   "execution_count": 9,
   "id": "4df823c7",
   "metadata": {},
   "outputs": [
    {
     "name": "stdout",
     "output_type": "stream",
     "text": [
      "R&D Spend 400\n",
      "Administration 396\n",
      "Marketing Spend 358\n",
      "State 3\n",
      "Profit 400\n"
     ]
    }
   ],
   "source": [
    "\n",
    "for column in df.columns:\n",
    "    print(column,df[column].nunique())"
   ]
  },
  {
   "cell_type": "markdown",
   "id": "45131439",
   "metadata": {},
   "source": [
    "# 4. Explore the Categorical Features"
   ]
  },
  {
   "cell_type": "code",
   "execution_count": 10,
   "id": "f7064b92",
   "metadata": {},
   "outputs": [
    {
     "data": {
      "text/plain": [
       "['State']"
      ]
     },
     "execution_count": 10,
     "metadata": {},
     "output_type": "execute_result"
    }
   ],
   "source": [
    "categorical_features=[feature for feature in df.columns if df[feature].dtypes=='O']\n",
    "categorical_features"
   ]
  },
  {
   "cell_type": "code",
   "execution_count": 11,
   "id": "d989c648",
   "metadata": {},
   "outputs": [
    {
     "name": "stdout",
     "output_type": "stream",
     "text": [
      "The feature is State and number of categories are 3\n"
     ]
    }
   ],
   "source": [
    "for feature in categorical_features:\n",
    "    print('The feature is {} and number of categories are {}'.format(feature,len(df[feature].unique())))"
   ]
  },
  {
   "cell_type": "markdown",
   "id": "e19ce14a",
   "metadata": {},
   "source": [
    "Take-away\n",
    "\n",
    "\n",
    "\n",
    "only one feature that is State is categorical and it has 3 unique values"
   ]
  },
  {
   "cell_type": "markdown",
   "id": "0ee7854e",
   "metadata": {},
   "source": [
    "# 5. Find Categorical Feature Distribution"
   ]
  },
  {
   "cell_type": "code",
   "execution_count": 12,
   "id": "12a3c545",
   "metadata": {},
   "outputs": [
    {
     "data": {
      "image/png": "[encoded data removed]",
      "text/plain": [
       "<Figure size 1080x5760 with 1 Axes>"
      ]
     },
     "metadata": {},
     "output_type": "display_data"
    }
   ],
   "source": [
    "#check count based on categorical features\n",
    "plt.figure(figsize=(15,80), facecolor='white')\n",
    "plotnumber =1\n",
    "for categorical_feature in categorical_features:\n",
    "    ax = plt.subplot(12,2,plotnumber)\n",
    "    sns.countplot(y=categorical_feature,data=df)\n",
    "    plt.xlabel(categorical_feature)\n",
    "    plt.title(categorical_feature)\n",
    "    plotnumber+=1\n",
    "plt.show()"
   ]
  },
  {
   "cell_type": "markdown",
   "id": "63ea5087",
   "metadata": {},
   "source": [
    "Take-away\n",
    "\n",
    "\n",
    "\n",
    "State with florida has less number of records in given dataset"
   ]
  },
  {
   "cell_type": "markdown",
   "id": "2fb705ea",
   "metadata": {},
   "source": [
    "# 6. Relationship between Categorical Features and Label"
   ]
  },
  {
   "cell_type": "code",
   "execution_count": 13,
   "id": "2f52144b",
   "metadata": {},
   "outputs": [
    {
     "data": {
      "image/png": "[encoded data removed]",
      "text/plain": [
       "<Figure size 1080x5760 with 1 Axes>"
      ]
     },
     "metadata": {},
     "output_type": "display_data"
    }
   ],
   "source": [
    "#Find out the relationship between categorical variable and dependent varaible\n",
    "plt.figure(figsize=(15,80), facecolor='white')\n",
    "plotnumber =1\n",
    "for feature in categorical_features:\n",
    "    ax = plt.subplot(12,2,plotnumber)\n",
    "    data=df.copy()\n",
    "    data.groupby(feature)['Profit'].median().plot.bar()\n",
    "    plt.xlabel(feature)\n",
    "    plt.ylabel('Profit')\n",
    "    plt.title(feature)\n",
    "    plotnumber+=1\n",
    "plt.show()"
   ]
  },
  {
   "cell_type": "markdown",
   "id": "fd021f05",
   "metadata": {},
   "source": [
    "Take-away\n",
    "\n",
    "\n",
    "\n",
    "It seems startup in state of California has less profits than others two states"
   ]
  },
  {
   "cell_type": "markdown",
   "id": "41126729",
   "metadata": {},
   "source": [
    "# 8. Explore the Numerical Features"
   ]
  },
  {
   "cell_type": "code",
   "execution_count": 14,
   "id": "e6d1b2f9",
   "metadata": {},
   "outputs": [
    {
     "name": "stdout",
     "output_type": "stream",
     "text": [
      "Number of numerical variables:  3\n"
     ]
    },
    {
     "data": {
      "text/html": [
       "<div>\n",
       "<style scoped>\n",
       "    .dataframe tbody tr th:only-of-type {\n",
       "        vertical-align: middle;\n",
       "    }\n",
       "\n",
       "    .dataframe tbody tr th {\n",
       "        vertical-align: top;\n",
       "    }\n",
       "\n",
       "    .dataframe thead th {\n",
       "        text-align: right;\n",
       "    }\n",
       "</style>\n",
       "<table border=\"1\" class=\"dataframe\">\n",
       "  <thead>\n",
       "    <tr style=\"text-align: right;\">\n",
       "      <th></th>\n",
       "      <th>R&amp;D Spend</th>\n",
       "      <th>Administration</th>\n",
       "      <th>Marketing Spend</th>\n",
       "    </tr>\n",
       "  </thead>\n",
       "  <tbody>\n",
       "    <tr>\n",
       "      <th>0</th>\n",
       "      <td>78051.14365</td>\n",
       "      <td>55537.75251</td>\n",
       "      <td>12770.82</td>\n",
       "    </tr>\n",
       "    <tr>\n",
       "      <th>1</th>\n",
       "      <td>11163.47269</td>\n",
       "      <td>241608.96630</td>\n",
       "      <td>55012.62</td>\n",
       "    </tr>\n",
       "    <tr>\n",
       "      <th>2</th>\n",
       "      <td>153848.90340</td>\n",
       "      <td>169007.95040</td>\n",
       "      <td>46708.68</td>\n",
       "    </tr>\n",
       "    <tr>\n",
       "      <th>3</th>\n",
       "      <td>46913.23785</td>\n",
       "      <td>55770.16760</td>\n",
       "      <td>222415.30</td>\n",
       "    </tr>\n",
       "    <tr>\n",
       "      <th>4</th>\n",
       "      <td>16844.34943</td>\n",
       "      <td>116066.11220</td>\n",
       "      <td>164528.39</td>\n",
       "    </tr>\n",
       "  </tbody>\n",
       "</table>\n",
       "</div>"
      ],
      "text/plain": [
       "      R&D Spend  Administration  Marketing Spend\n",
       "0   78051.14365     55537.75251         12770.82\n",
       "1   11163.47269    241608.96630         55012.62\n",
       "2  153848.90340    169007.95040         46708.68\n",
       "3   46913.23785     55770.16760        222415.30\n",
       "4   16844.34943    116066.11220        164528.39"
      ]
     },
     "execution_count": 14,
     "metadata": {},
     "output_type": "execute_result"
    }
   ],
   "source": [
    "# list of numerical variables\n",
    "numerical_features = [feature for feature in df.columns if ((df[feature].dtypes != 'O') & (feature not in ['Profit']))]\n",
    "print('Number of numerical variables: ', len(numerical_features))\n",
    "\n",
    "# visualise the numerical variables\n",
    "df[numerical_features].head()"
   ]
  },
  {
   "cell_type": "markdown",
   "id": "8e8c6d12",
   "metadata": {},
   "source": [
    "Take-away\n",
    "\n",
    "\n",
    "there are three numerical features that are R&D Spend, Administration and Marketing Spend"
   ]
  },
  {
   "cell_type": "markdown",
   "id": "a572ef73",
   "metadata": {},
   "source": [
    "# 9. Find Discrete Numerical Features"
   ]
  },
  {
   "cell_type": "code",
   "execution_count": 15,
   "id": "aea87c0e",
   "metadata": {},
   "outputs": [
    {
     "name": "stdout",
     "output_type": "stream",
     "text": [
      "Discrete Variables Count: 0\n"
     ]
    }
   ],
   "source": [
    "discrete_feature=[feature for feature in numerical_features if len(df[feature].unique())<25]\n",
    "print(\"Discrete Variables Count: {}\".format(len(discrete_feature)))"
   ]
  },
  {
   "cell_type": "markdown",
   "id": "bba50a6c",
   "metadata": {},
   "source": [
    "no discrete varaible found"
   ]
  },
  {
   "cell_type": "markdown",
   "id": "fb38ad54",
   "metadata": {},
   "source": [
    "# 10. Find Continous Numerical Features"
   ]
  },
  {
   "cell_type": "code",
   "execution_count": 16,
   "id": "7c7e861f",
   "metadata": {},
   "outputs": [
    {
     "name": "stdout",
     "output_type": "stream",
     "text": [
      "Continuous feature Count 3\n"
     ]
    }
   ],
   "source": [
    "continuous_features=[feature for feature in numerical_features if feature not in discrete_feature+['Profit']]\n",
    "print(\"Continuous feature Count {}\".format(len(continuous_features)))"
   ]
  },
  {
   "cell_type": "code",
   "execution_count": 17,
   "id": "c8b28a74",
   "metadata": {},
   "outputs": [
    {
     "data": {
      "text/plain": [
       "['R&D Spend', 'Administration', 'Marketing Spend']"
      ]
     },
     "execution_count": 17,
     "metadata": {},
     "output_type": "execute_result"
    }
   ],
   "source": [
    "continuous_features"
   ]
  },
  {
   "cell_type": "markdown",
   "id": "0d3eb266",
   "metadata": {},
   "source": [
    "there are three continous numerical features..'R&D Spend', 'Administration', 'Marketing Spend'"
   ]
  },
  {
   "cell_type": "markdown",
   "id": "1227b876",
   "metadata": {},
   "source": [
    "# 11. Distribution of Continous Numerical Features"
   ]
  },
  {
   "cell_type": "code",
   "execution_count": 18,
   "id": "a9f8c322",
   "metadata": {},
   "outputs": [
    {
     "name": "stderr",
     "output_type": "stream",
     "text": [
      "C:\\Users\\abarn\\anaconda3\\lib\\site-packages\\seaborn\\distributions.py:2557: FutureWarning: `distplot` is a deprecated function and will be removed in a future version. Please adapt your code to use either `displot` (a figure-level function with similar flexibility) or `histplot` (an axes-level function for histograms).\n",
      "  warnings.warn(msg, FutureWarning)\n",
      "C:\\Users\\abarn\\anaconda3\\lib\\site-packages\\seaborn\\distributions.py:2557: FutureWarning: `distplot` is a deprecated function and will be removed in a future version. Please adapt your code to use either `displot` (a figure-level function with similar flexibility) or `histplot` (an axes-level function for histograms).\n",
      "  warnings.warn(msg, FutureWarning)\n",
      "C:\\Users\\abarn\\anaconda3\\lib\\site-packages\\seaborn\\distributions.py:2557: FutureWarning: `distplot` is a deprecated function and will be removed in a future version. Please adapt your code to use either `displot` (a figure-level function with similar flexibility) or `histplot` (an axes-level function for histograms).\n",
      "  warnings.warn(msg, FutureWarning)\n"
     ]
    },
    {
     "data": {
      "image/png": "[encoded data removed]",
      "text/plain": [
       "<Figure size 1440x4320 with 3 Axes>"
      ]
     },
     "metadata": {},
     "output_type": "display_data"
    }
   ],
   "source": [
    "#plot a univariate distribution of continues observations\n",
    "plt.figure(figsize=(20,60), facecolor='white')\n",
    "plotnumber =1\n",
    "for continuous_feature in continuous_features:\n",
    "    ax = plt.subplot(12,3,plotnumber)\n",
    "    sns.distplot(df[continuous_feature])\n",
    "    plt.xlabel(continuous_feature)\n",
    "    plotnumber+=1\n",
    "plt.show()"
   ]
  },
  {
   "cell_type": "markdown",
   "id": "375ae3e7",
   "metadata": {},
   "source": [
    "it seems all continuous features are normally distributed"
   ]
  },
  {
   "cell_type": "markdown",
   "id": "a2b0da14",
   "metadata": {},
   "source": [
    "# 12. Relation between Continous numerical Features and Labels"
   ]
  },
  {
   "cell_type": "code",
   "execution_count": 19,
   "id": "9c9cdab8",
   "metadata": {},
   "outputs": [
    {
     "data": {
      "image/png": "[encoded data removed]",
      "text/plain": [
       "<Figure size 1440x4320 with 3 Axes>"
      ]
     },
     "metadata": {},
     "output_type": "display_data"
    }
   ],
   "source": [
    "plt.figure(figsize=(20,60), facecolor='white')\n",
    "plotnumber =1\n",
    "for feature in continuous_features:\n",
    "    data=df.copy()\n",
    "    ax = plt.subplot(12,3,plotnumber)\n",
    "    plt.scatter(data[feature],data['Profit'])\n",
    "    plt.xlabel(feature)\n",
    "    plt.ylabel('Profit')\n",
    "    plt.title(feature)\n",
    "    plotnumber+=1\n",
    "plt.show()"
   ]
  },
  {
   "cell_type": "markdown",
   "id": "afbbb734",
   "metadata": {},
   "source": [
    "it seems R&D Spend, Marketing Spend feature linearly progressing with Profit\n"
   ]
  },
  {
   "cell_type": "markdown",
   "id": "03eab6ea",
   "metadata": {},
   "source": [
    "# 13. Find Outliers in numerical features"
   ]
  },
  {
   "cell_type": "code",
   "execution_count": 20,
   "id": "7e07e7d9",
   "metadata": {},
   "outputs": [
    {
     "name": "stderr",
     "output_type": "stream",
     "text": [
      "C:\\Users\\abarn\\anaconda3\\lib\\site-packages\\seaborn\\_decorators.py:36: FutureWarning: Pass the following variable as a keyword arg: x. From version 0.12, the only valid positional argument will be `data`, and passing other arguments without an explicit keyword will result in an error or misinterpretation.\n",
      "  warnings.warn(\n",
      "C:\\Users\\abarn\\anaconda3\\lib\\site-packages\\seaborn\\_decorators.py:36: FutureWarning: Pass the following variable as a keyword arg: x. From version 0.12, the only valid positional argument will be `data`, and passing other arguments without an explicit keyword will result in an error or misinterpretation.\n",
      "  warnings.warn(\n",
      "C:\\Users\\abarn\\anaconda3\\lib\\site-packages\\seaborn\\_decorators.py:36: FutureWarning: Pass the following variable as a keyword arg: x. From version 0.12, the only valid positional argument will be `data`, and passing other arguments without an explicit keyword will result in an error or misinterpretation.\n",
      "  warnings.warn(\n"
     ]
    },
    {
     "data": {
      "image/png": "[encoded data removed]",
      "text/plain": [
       "<Figure size 1440x4320 with 3 Axes>"
      ]
     },
     "metadata": {},
     "output_type": "display_data"
    }
   ],
   "source": [
    "#boxplot on numerical features to find outliers\n",
    "plt.figure(figsize=(20,60), facecolor='white')\n",
    "plotnumber =1\n",
    "for numerical_feature in numerical_features:\n",
    "    ax = plt.subplot(12,3,plotnumber)\n",
    "    sns.boxplot(df[numerical_feature])\n",
    "    plt.xlabel(numerical_feature)\n",
    "    plotnumber+=1\n",
    "plt.show()"
   ]
  },
  {
   "cell_type": "markdown",
   "id": "a98af256",
   "metadata": {},
   "source": [
    "it seems no outliers found"
   ]
  },
  {
   "cell_type": "markdown",
   "id": "34fade1c",
   "metadata": {},
   "source": [
    "# 14. Explore the Correlation between numerical features"
   ]
  },
  {
   "cell_type": "code",
   "execution_count": 21,
   "id": "22c43ca4",
   "metadata": {},
   "outputs": [
    {
     "data": {
      "image/png": "[encoded data removed]",
      "text/plain": [
       "<Figure size 1080x504 with 2 Axes>"
      ]
     },
     "metadata": {
      "needs_background": "light"
     },
     "output_type": "display_data"
    }
   ],
   "source": [
    "## Checking for correlation\n",
    "cor_mat=df.corr()\n",
    "fig = plt.figure(figsize=(15,7))\n",
    "sns.heatmap(cor_mat,annot=True)\n",
    "plt.show()"
   ]
  },
  {
   "cell_type": "markdown",
   "id": "b7fe1346",
   "metadata": {},
   "source": [
    "# Feature Engineering and Model Building - PredictStartupProfits"
   ]
  },
  {
   "cell_type": "code",
   "execution_count": 23,
   "id": "2cea4740",
   "metadata": {},
   "outputs": [
    {
     "data": {
      "text/html": [
       "<div>\n",
       "<style scoped>\n",
       "    .dataframe tbody tr th:only-of-type {\n",
       "        vertical-align: middle;\n",
       "    }\n",
       "\n",
       "    .dataframe tbody tr th {\n",
       "        vertical-align: top;\n",
       "    }\n",
       "\n",
       "    .dataframe thead th {\n",
       "        text-align: right;\n",
       "    }\n",
       "</style>\n",
       "<table border=\"1\" class=\"dataframe\">\n",
       "  <thead>\n",
       "    <tr style=\"text-align: right;\">\n",
       "      <th></th>\n",
       "      <th>R&amp;D Spend</th>\n",
       "      <th>Administration</th>\n",
       "      <th>Marketing Spend</th>\n",
       "      <th>State</th>\n",
       "      <th>Profit</th>\n",
       "    </tr>\n",
       "  </thead>\n",
       "  <tbody>\n",
       "    <tr>\n",
       "      <th>0</th>\n",
       "      <td>78051.14365</td>\n",
       "      <td>55537.75251</td>\n",
       "      <td>12770.82</td>\n",
       "      <td>New York</td>\n",
       "      <td>54575.486170</td>\n",
       "    </tr>\n",
       "    <tr>\n",
       "      <th>1</th>\n",
       "      <td>11163.47269</td>\n",
       "      <td>241608.96630</td>\n",
       "      <td>55012.62</td>\n",
       "      <td>New York</td>\n",
       "      <td>-6257.430253</td>\n",
       "    </tr>\n",
       "    <tr>\n",
       "      <th>2</th>\n",
       "      <td>153848.90340</td>\n",
       "      <td>169007.95040</td>\n",
       "      <td>46708.68</td>\n",
       "      <td>Florida</td>\n",
       "      <td>86707.726460</td>\n",
       "    </tr>\n",
       "    <tr>\n",
       "      <th>3</th>\n",
       "      <td>46913.23785</td>\n",
       "      <td>55770.16760</td>\n",
       "      <td>222415.30</td>\n",
       "      <td>California</td>\n",
       "      <td>36073.618930</td>\n",
       "    </tr>\n",
       "    <tr>\n",
       "      <th>4</th>\n",
       "      <td>16844.34943</td>\n",
       "      <td>116066.11220</td>\n",
       "      <td>164528.39</td>\n",
       "      <td>California</td>\n",
       "      <td>24696.317850</td>\n",
       "    </tr>\n",
       "  </tbody>\n",
       "</table>\n",
       "</div>"
      ],
      "text/plain": [
       "      R&D Spend  Administration  Marketing Spend       State        Profit\n",
       "0   78051.14365     55537.75251         12770.82    New York  54575.486170\n",
       "1   11163.47269    241608.96630         55012.62    New York  -6257.430253\n",
       "2  153848.90340    169007.95040         46708.68     Florida  86707.726460\n",
       "3   46913.23785     55770.16760        222415.30  California  36073.618930\n",
       "4   16844.34943    116066.11220        164528.39  California  24696.317850"
      ]
     },
     "execution_count": 23,
     "metadata": {},
     "output_type": "execute_result"
    }
   ],
   "source": [
    "df.head()"
   ]
  },
  {
   "cell_type": "code",
   "execution_count": 24,
   "id": "ed262a89",
   "metadata": {},
   "outputs": [
    {
     "name": "stdout",
     "output_type": "stream",
     "text": [
      "<class 'pandas.core.frame.DataFrame'>\n",
      "RangeIndex: 400 entries, 0 to 399\n",
      "Data columns (total 5 columns):\n",
      " #   Column           Non-Null Count  Dtype  \n",
      "---  ------           --------------  -----  \n",
      " 0   R&D Spend        400 non-null    float64\n",
      " 1   Administration   400 non-null    float64\n",
      " 2   Marketing Spend  400 non-null    float64\n",
      " 3   State            400 non-null    object \n",
      " 4   Profit           400 non-null    float64\n",
      "dtypes: float64(4), object(1)\n",
      "memory usage: 15.8+ KB\n"
     ]
    }
   ],
   "source": [
    "df.info()"
   ]
  },
  {
   "cell_type": "code",
   "execution_count": 25,
   "id": "93cbb90b",
   "metadata": {},
   "outputs": [
    {
     "data": {
      "text/html": [
       "<div>\n",
       "<style scoped>\n",
       "    .dataframe tbody tr th:only-of-type {\n",
       "        vertical-align: middle;\n",
       "    }\n",
       "\n",
       "    .dataframe tbody tr th {\n",
       "        vertical-align: top;\n",
       "    }\n",
       "\n",
       "    .dataframe thead th {\n",
       "        text-align: right;\n",
       "    }\n",
       "</style>\n",
       "<table border=\"1\" class=\"dataframe\">\n",
       "  <thead>\n",
       "    <tr style=\"text-align: right;\">\n",
       "      <th></th>\n",
       "      <th>R&amp;D Spend</th>\n",
       "      <th>Administration</th>\n",
       "      <th>Marketing Spend</th>\n",
       "      <th>Profit</th>\n",
       "    </tr>\n",
       "  </thead>\n",
       "  <tbody>\n",
       "    <tr>\n",
       "      <th>count</th>\n",
       "      <td>400.000000</td>\n",
       "      <td>400.000000</td>\n",
       "      <td>400.000000</td>\n",
       "      <td>400.000000</td>\n",
       "    </tr>\n",
       "    <tr>\n",
       "      <th>mean</th>\n",
       "      <td>80965.478413</td>\n",
       "      <td>142435.708365</td>\n",
       "      <td>119887.684200</td>\n",
       "      <td>54356.336059</td>\n",
       "    </tr>\n",
       "    <tr>\n",
       "      <th>std</th>\n",
       "      <td>47668.448443</td>\n",
       "      <td>61451.490115</td>\n",
       "      <td>69125.748567</td>\n",
       "      <td>38805.158844</td>\n",
       "    </tr>\n",
       "    <tr>\n",
       "      <th>min</th>\n",
       "      <td>1315.460000</td>\n",
       "      <td>0.000000</td>\n",
       "      <td>-347.000000</td>\n",
       "      <td>-30287.795920</td>\n",
       "    </tr>\n",
       "    <tr>\n",
       "      <th>25%</th>\n",
       "      <td>40603.498222</td>\n",
       "      <td>93765.670532</td>\n",
       "      <td>63166.127500</td>\n",
       "      <td>23935.551690</td>\n",
       "    </tr>\n",
       "    <tr>\n",
       "      <th>50%</th>\n",
       "      <td>74292.618905</td>\n",
       "      <td>140513.882500</td>\n",
       "      <td>118074.450000</td>\n",
       "      <td>52664.410385</td>\n",
       "    </tr>\n",
       "    <tr>\n",
       "      <th>75%</th>\n",
       "      <td>123962.329650</td>\n",
       "      <td>174979.059075</td>\n",
       "      <td>175931.267500</td>\n",
       "      <td>86480.912705</td>\n",
       "    </tr>\n",
       "    <tr>\n",
       "      <th>max</th>\n",
       "      <td>165169.886800</td>\n",
       "      <td>282311.018900</td>\n",
       "      <td>304981.620000</td>\n",
       "      <td>149759.960000</td>\n",
       "    </tr>\n",
       "  </tbody>\n",
       "</table>\n",
       "</div>"
      ],
      "text/plain": [
       "           R&D Spend  Administration  Marketing Spend         Profit\n",
       "count     400.000000      400.000000       400.000000     400.000000\n",
       "mean    80965.478413   142435.708365    119887.684200   54356.336059\n",
       "std     47668.448443    61451.490115     69125.748567   38805.158844\n",
       "min      1315.460000        0.000000      -347.000000  -30287.795920\n",
       "25%     40603.498222    93765.670532     63166.127500   23935.551690\n",
       "50%     74292.618905   140513.882500    118074.450000   52664.410385\n",
       "75%    123962.329650   174979.059075    175931.267500   86480.912705\n",
       "max    165169.886800   282311.018900    304981.620000  149759.960000"
      ]
     },
     "execution_count": 25,
     "metadata": {},
     "output_type": "execute_result"
    }
   ],
   "source": [
    "df.describe()"
   ]
  },
  {
   "cell_type": "markdown",
   "id": "2356936a",
   "metadata": {},
   "source": [
    "# Feature Engineering\n",
    "Drop unwanted Features\n",
    "Handle Missing Values\n",
    "Handle Categorical Features\n",
    "Handle Feature Scalling\n",
    "Remove Outliers\n",
    "As per Exploratory Data Analysis EDA,\n",
    "\n",
    "these is no unwanted column present in given dataset to remove\n",
    "no missing value found\n",
    "only one feature that is State is categorical and it has 3 unique values\n",
    "it seems no outliers found"
   ]
  },
  {
   "cell_type": "code",
   "execution_count": 27,
   "id": "be9fb2ea",
   "metadata": {},
   "outputs": [],
   "source": [
    "# Handle Categorical Features\n",
    "state_dummies = pd.get_dummies(df['State'],prefix='state',drop_first=True)\n",
    "df = pd.concat([df,state_dummies],axis=1)"
   ]
  },
  {
   "cell_type": "code",
   "execution_count": 28,
   "id": "717bb601",
   "metadata": {},
   "outputs": [],
   "source": [
    "df.drop(['State'], axis=1, inplace=True)"
   ]
  },
  {
   "cell_type": "code",
   "execution_count": 29,
   "id": "b552fa2b",
   "metadata": {},
   "outputs": [
    {
     "data": {
      "text/html": [
       "<div>\n",
       "<style scoped>\n",
       "    .dataframe tbody tr th:only-of-type {\n",
       "        vertical-align: middle;\n",
       "    }\n",
       "\n",
       "    .dataframe tbody tr th {\n",
       "        vertical-align: top;\n",
       "    }\n",
       "\n",
       "    .dataframe thead th {\n",
       "        text-align: right;\n",
       "    }\n",
       "</style>\n",
       "<table border=\"1\" class=\"dataframe\">\n",
       "  <thead>\n",
       "    <tr style=\"text-align: right;\">\n",
       "      <th></th>\n",
       "      <th>R&amp;D Spend</th>\n",
       "      <th>Administration</th>\n",
       "      <th>Marketing Spend</th>\n",
       "      <th>Profit</th>\n",
       "      <th>state_Florida</th>\n",
       "      <th>state_New York</th>\n",
       "    </tr>\n",
       "  </thead>\n",
       "  <tbody>\n",
       "    <tr>\n",
       "      <th>0</th>\n",
       "      <td>78051.14365</td>\n",
       "      <td>55537.75251</td>\n",
       "      <td>12770.82</td>\n",
       "      <td>54575.486170</td>\n",
       "      <td>0</td>\n",
       "      <td>1</td>\n",
       "    </tr>\n",
       "    <tr>\n",
       "      <th>1</th>\n",
       "      <td>11163.47269</td>\n",
       "      <td>241608.96630</td>\n",
       "      <td>55012.62</td>\n",
       "      <td>-6257.430253</td>\n",
       "      <td>0</td>\n",
       "      <td>1</td>\n",
       "    </tr>\n",
       "    <tr>\n",
       "      <th>2</th>\n",
       "      <td>153848.90340</td>\n",
       "      <td>169007.95040</td>\n",
       "      <td>46708.68</td>\n",
       "      <td>86707.726460</td>\n",
       "      <td>1</td>\n",
       "      <td>0</td>\n",
       "    </tr>\n",
       "    <tr>\n",
       "      <th>3</th>\n",
       "      <td>46913.23785</td>\n",
       "      <td>55770.16760</td>\n",
       "      <td>222415.30</td>\n",
       "      <td>36073.618930</td>\n",
       "      <td>0</td>\n",
       "      <td>0</td>\n",
       "    </tr>\n",
       "    <tr>\n",
       "      <th>4</th>\n",
       "      <td>16844.34943</td>\n",
       "      <td>116066.11220</td>\n",
       "      <td>164528.39</td>\n",
       "      <td>24696.317850</td>\n",
       "      <td>0</td>\n",
       "      <td>0</td>\n",
       "    </tr>\n",
       "  </tbody>\n",
       "</table>\n",
       "</div>"
      ],
      "text/plain": [
       "      R&D Spend  Administration  Marketing Spend        Profit  state_Florida  \\\n",
       "0   78051.14365     55537.75251         12770.82  54575.486170              0   \n",
       "1   11163.47269    241608.96630         55012.62  -6257.430253              0   \n",
       "2  153848.90340    169007.95040         46708.68  86707.726460              1   \n",
       "3   46913.23785     55770.16760        222415.30  36073.618930              0   \n",
       "4   16844.34943    116066.11220        164528.39  24696.317850              0   \n",
       "\n",
       "   state_New York  \n",
       "0               1  \n",
       "1               1  \n",
       "2               0  \n",
       "3               0  \n",
       "4               0  "
      ]
     },
     "execution_count": 29,
     "metadata": {},
     "output_type": "execute_result"
    }
   ],
   "source": [
    "df.head()"
   ]
  },
  {
   "cell_type": "markdown",
   "id": "6fe43089",
   "metadata": {},
   "source": [
    "# Split Dataset into Training set and Test set"
   ]
  },
  {
   "cell_type": "code",
   "execution_count": 30,
   "id": "a9c3bbd3",
   "metadata": {},
   "outputs": [],
   "source": [
    "X = df.drop(['Profit'],axis=1)\n",
    "y = df['Profit']\n",
    "from sklearn.model_selection import train_test_split\n",
    "X_train, X_test, y_train, y_test = train_test_split(X,y,test_size=0.2, random_state=0)"
   ]
  },
  {
   "cell_type": "code",
   "execution_count": 31,
   "id": "43a29fcf",
   "metadata": {},
   "outputs": [
    {
     "data": {
      "text/html": [
       "<div>\n",
       "<style scoped>\n",
       "    .dataframe tbody tr th:only-of-type {\n",
       "        vertical-align: middle;\n",
       "    }\n",
       "\n",
       "    .dataframe tbody tr th {\n",
       "        vertical-align: top;\n",
       "    }\n",
       "\n",
       "    .dataframe thead th {\n",
       "        text-align: right;\n",
       "    }\n",
       "</style>\n",
       "<table border=\"1\" class=\"dataframe\">\n",
       "  <thead>\n",
       "    <tr style=\"text-align: right;\">\n",
       "      <th></th>\n",
       "      <th>R&amp;D Spend</th>\n",
       "      <th>Administration</th>\n",
       "      <th>Marketing Spend</th>\n",
       "      <th>state_Florida</th>\n",
       "      <th>state_New York</th>\n",
       "    </tr>\n",
       "  </thead>\n",
       "  <tbody>\n",
       "    <tr>\n",
       "      <th>336</th>\n",
       "      <td>49286.096280</td>\n",
       "      <td>139005.37840</td>\n",
       "      <td>91838.80</td>\n",
       "      <td>0</td>\n",
       "      <td>0</td>\n",
       "    </tr>\n",
       "    <tr>\n",
       "      <th>64</th>\n",
       "      <td>103781.970700</td>\n",
       "      <td>187001.27520</td>\n",
       "      <td>77758.20</td>\n",
       "      <td>1</td>\n",
       "      <td>0</td>\n",
       "    </tr>\n",
       "    <tr>\n",
       "      <th>55</th>\n",
       "      <td>5518.384663</td>\n",
       "      <td>85709.87893</td>\n",
       "      <td>62714.83</td>\n",
       "      <td>0</td>\n",
       "      <td>0</td>\n",
       "    </tr>\n",
       "    <tr>\n",
       "      <th>106</th>\n",
       "      <td>137176.354500</td>\n",
       "      <td>76258.84263</td>\n",
       "      <td>122527.29</td>\n",
       "      <td>0</td>\n",
       "      <td>1</td>\n",
       "    </tr>\n",
       "    <tr>\n",
       "      <th>300</th>\n",
       "      <td>165090.308700</td>\n",
       "      <td>78592.38200</td>\n",
       "      <td>60067.19</td>\n",
       "      <td>1</td>\n",
       "      <td>0</td>\n",
       "    </tr>\n",
       "  </tbody>\n",
       "</table>\n",
       "</div>"
      ],
      "text/plain": [
       "         R&D Spend  Administration  Marketing Spend  state_Florida  \\\n",
       "336   49286.096280    139005.37840         91838.80              0   \n",
       "64   103781.970700    187001.27520         77758.20              1   \n",
       "55     5518.384663     85709.87893         62714.83              0   \n",
       "106  137176.354500     76258.84263        122527.29              0   \n",
       "300  165090.308700     78592.38200         60067.19              1   \n",
       "\n",
       "     state_New York  \n",
       "336               0  \n",
       "64                0  \n",
       "55                0  \n",
       "106               1  \n",
       "300               0  "
      ]
     },
     "execution_count": 31,
     "metadata": {},
     "output_type": "execute_result"
    }
   ],
   "source": [
    "X_train.head()"
   ]
  },
  {
   "cell_type": "code",
   "execution_count": 32,
   "id": "6d393b7b",
   "metadata": {},
   "outputs": [
    {
     "data": {
      "text/plain": [
       "320"
      ]
     },
     "execution_count": 32,
     "metadata": {},
     "output_type": "execute_result"
    }
   ],
   "source": [
    "len(X_train)"
   ]
  },
  {
   "cell_type": "code",
   "execution_count": 33,
   "id": "edfe7676",
   "metadata": {},
   "outputs": [
    {
     "data": {
      "text/plain": [
       "80"
      ]
     },
     "execution_count": 33,
     "metadata": {},
     "output_type": "execute_result"
    }
   ],
   "source": [
    "len(X_test)"
   ]
  },
  {
   "cell_type": "markdown",
   "id": "68bc9c85",
   "metadata": {},
   "source": [
    "# Model Selection"
   ]
  },
  {
   "cell_type": "code",
   "execution_count": 34,
   "id": "fa5c58e5",
   "metadata": {},
   "outputs": [],
   "source": [
    "from sklearn.linear_model import LinearRegression\n",
    "from sklearn.linear_model import Lasso\n",
    "from sklearn.tree import DecisionTreeRegressor\n",
    "from sklearn.model_selection import ShuffleSplit\n",
    "from sklearn.model_selection import GridSearchCV"
   ]
  },
  {
   "cell_type": "code",
   "execution_count": 35,
   "id": "bd5232f7",
   "metadata": {},
   "outputs": [],
   "source": [
    "def find_best_model_using_gridsearchcv(X,y):\n",
    "    algos = {\n",
    "        'linear_regression' : {\n",
    "            'model': LinearRegression(),\n",
    "            'params': {\n",
    "                'fit_intercept': [True, False],\n",
    "                'normalize': [True, False],\n",
    "                'copy_X': [True, False]\n",
    "            }\n",
    "        },\n",
    "        'lasso': {\n",
    "            'model': Lasso(),\n",
    "            'params': {\n",
    "                'alpha': [1,2],\n",
    "                'selection': ['random', 'cyclic']\n",
    "            }\n",
    "        },\n",
    "        'decision_tree': {\n",
    "            'model': DecisionTreeRegressor(),\n",
    "            'params': {\n",
    "                'criterion' : ['mse','friedman_mse'],\n",
    "                'splitter': ['best','random']\n",
    "            }\n",
    "        }\n",
    "    }\n",
    "    scores = []\n",
    "    cv = ShuffleSplit(n_splits=5, test_size=0.2, random_state=0)\n",
    "    for algo_name, config in algos.items():\n",
    "        gs =  GridSearchCV(config['model'], config['params'], cv=cv, return_train_score=False)\n",
    "        gs.fit(X,y)\n",
    "        scores.append({\n",
    "            'model': algo_name,\n",
    "            'best_score': gs.best_score_,\n",
    "            'best_params': gs.best_params_\n",
    "        })\n",
    "\n",
    "    return pd.DataFrame(scores,columns=['model','best_score','best_params'])"
   ]
  },
  {
   "cell_type": "code",
   "execution_count": 36,
   "id": "95fee72f",
   "metadata": {},
   "outputs": [
    {
     "data": {
      "text/html": [
       "<div>\n",
       "<style scoped>\n",
       "    .dataframe tbody tr th:only-of-type {\n",
       "        vertical-align: middle;\n",
       "    }\n",
       "\n",
       "    .dataframe tbody tr th {\n",
       "        vertical-align: top;\n",
       "    }\n",
       "\n",
       "    .dataframe thead th {\n",
       "        text-align: right;\n",
       "    }\n",
       "</style>\n",
       "<table border=\"1\" class=\"dataframe\">\n",
       "  <thead>\n",
       "    <tr style=\"text-align: right;\">\n",
       "      <th></th>\n",
       "      <th>model</th>\n",
       "      <th>best_score</th>\n",
       "      <th>best_params</th>\n",
       "    </tr>\n",
       "  </thead>\n",
       "  <tbody>\n",
       "    <tr>\n",
       "      <th>0</th>\n",
       "      <td>linear_regression</td>\n",
       "      <td>0.834336</td>\n",
       "      <td>{'copy_X': True, 'fit_intercept': False, 'normalize': True}</td>\n",
       "    </tr>\n",
       "    <tr>\n",
       "      <th>1</th>\n",
       "      <td>lasso</td>\n",
       "      <td>0.833270</td>\n",
       "      <td>{'alpha': 2, 'selection': 'cyclic'}</td>\n",
       "    </tr>\n",
       "    <tr>\n",
       "      <th>2</th>\n",
       "      <td>decision_tree</td>\n",
       "      <td>0.691144</td>\n",
       "      <td>{'criterion': 'mse', 'splitter': 'best'}</td>\n",
       "    </tr>\n",
       "  </tbody>\n",
       "</table>\n",
       "</div>"
      ],
      "text/plain": [
       "               model  best_score  \\\n",
       "0  linear_regression    0.834336   \n",
       "1              lasso    0.833270   \n",
       "2      decision_tree    0.691144   \n",
       "\n",
       "                                                   best_params  \n",
       "0  {'copy_X': True, 'fit_intercept': False, 'normalize': True}  \n",
       "1                          {'alpha': 2, 'selection': 'cyclic'}  \n",
       "2                     {'criterion': 'mse', 'splitter': 'best'}  "
      ]
     },
     "execution_count": 36,
     "metadata": {},
     "output_type": "execute_result"
    }
   ],
   "source": [
    "pd.set_option('display.max_colwidth', 100)\n",
    "find_best_model_using_gridsearchcv(X,y)"
   ]
  },
  {
   "cell_type": "markdown",
   "id": "3e862ebe",
   "metadata": {},
   "source": [
    "# Model Building"
   ]
  },
  {
   "cell_type": "code",
   "execution_count": 37,
   "id": "124b0967",
   "metadata": {},
   "outputs": [],
   "source": [
    "model_lr = LinearRegression(copy_X=True, fit_intercept=True, normalize=True)"
   ]
  },
  {
   "cell_type": "code",
   "execution_count": 38,
   "id": "a8a02e90",
   "metadata": {},
   "outputs": [
    {
     "data": {
      "text/plain": [
       "LinearRegression(normalize=True)"
      ]
     },
     "execution_count": 38,
     "metadata": {},
     "output_type": "execute_result"
    }
   ],
   "source": [
    "model_lr.fit(X_train,y_train)"
   ]
  },
  {
   "cell_type": "code",
   "execution_count": 39,
   "id": "7bca73bc",
   "metadata": {},
   "outputs": [
    {
     "data": {
      "text/plain": [
       "0.8610579230110005"
      ]
     },
     "execution_count": 39,
     "metadata": {},
     "output_type": "execute_result"
    }
   ],
   "source": [
    "model_lr.score(X_test,y_test)"
   ]
  },
  {
   "cell_type": "code",
   "execution_count": 40,
   "id": "26721d6a",
   "metadata": {},
   "outputs": [],
   "source": [
    "y_pred= model_lr.predict(X_test)"
   ]
  },
  {
   "cell_type": "code",
   "execution_count": 41,
   "id": "58dfdcb0",
   "metadata": {},
   "outputs": [
    {
     "data": {
      "text/plain": [
       "array([-10070.5650658 ,  13525.66603592,  81763.12050325,  40343.01171509,\n",
       "        87856.7415426 ,   9585.01842232, 100390.60277289,  60404.59127054,\n",
       "        93958.33124949,  -1262.03864918,  40503.74906037,  18975.75744699,\n",
       "        79682.27535122,   9967.48162858,  92063.21398933,  96681.21814098,\n",
       "        -4872.81306025,  80754.14394597,  78588.58633219,  74965.73937692,\n",
       "       117453.39935363,  71657.08668055,   4257.06663103,  17505.46370563,\n",
       "        40102.37048373, 109199.22638588,  78048.97024359,  15270.91375494,\n",
       "        -4164.57520679,  99794.32221561,  43750.54701541,  32870.04238298,\n",
       "        83928.43666435,  72566.28706791,  20156.17897981,  46470.54304863,\n",
       "        98479.64160759, 105017.63455656, 105560.45130501,  30626.55326568,\n",
       "        33600.63035828,  32537.30972024,  46387.75002833,  -9267.53085565,\n",
       "        49776.62804647,  -1719.44362537,  36261.92171924,  68270.15368251,\n",
       "        98161.6542021 ,  44287.96821327,   3559.02041412,  97720.53780339,\n",
       "       103260.50335815,  43920.5704064 ,  98055.05306097,  85071.80470405,\n",
       "       108816.39157381,  65131.20944928,  37422.82263126,  83624.20297625,\n",
       "        51435.9822995 ,  99209.51573547,  11556.91508592,  20358.10574624,\n",
       "        10342.17905964,  66751.39823068,  94158.14590967,  34620.97279055,\n",
       "        -8144.60399778,  21526.77815913, 112755.01483377, 114677.01768228,\n",
       "        55202.34848598, 113686.60515981,  64844.48635544,  23029.7724558 ,\n",
       "        20429.50655436,  97546.12761196,  25549.82340826,  11476.64262829])"
      ]
     },
     "execution_count": 41,
     "metadata": {},
     "output_type": "execute_result"
    }
   ],
   "source": [
    "y_pred"
   ]
  },
  {
   "cell_type": "code",
   "execution_count": 42,
   "id": "c1429090",
   "metadata": {},
   "outputs": [
    {
     "data": {
      "text/plain": [
       "132    -5490.909948\n",
       "309     4039.310261\n",
       "341    92277.778380\n",
       "196    36452.383320\n",
       "246    69106.834470\n",
       "           ...     \n",
       "14     23906.286690\n",
       "363    19343.292570\n",
       "304    88638.663160\n",
       "361    -6326.348760\n",
       "329     8085.668191\n",
       "Name: Profit, Length: 80, dtype: float64"
      ]
     },
     "execution_count": 42,
     "metadata": {},
     "output_type": "execute_result"
    }
   ],
   "source": [
    "y_test"
   ]
  },
  {
   "cell_type": "code",
   "execution_count": 43,
   "id": "2f1b1622",
   "metadata": {},
   "outputs": [
    {
     "data": {
      "text/plain": [
       "Index(['R&D Spend', 'Administration', 'Marketing Spend', 'state_Florida',\n",
       "       'state_New York'],\n",
       "      dtype='object')"
      ]
     },
     "execution_count": 43,
     "metadata": {},
     "output_type": "execute_result"
    }
   ],
   "source": [
    "X.columns"
   ]
  },
  {
   "cell_type": "code",
   "execution_count": 44,
   "id": "d0c07880",
   "metadata": {},
   "outputs": [
    {
     "data": {
      "text/plain": [
       "4"
      ]
     },
     "execution_count": 44,
     "metadata": {},
     "output_type": "execute_result"
    }
   ],
   "source": [
    "np.where(X.columns=='state_'+str('New York'))[0][0]"
   ]
  },
  {
   "cell_type": "code",
   "execution_count": 45,
   "id": "9ed2616c",
   "metadata": {},
   "outputs": [],
   "source": [
    "def predict_profit(r_d_expenses,administration_expenses,marketing_expenses,state):    \n",
    "    state_index = np.where(X.columns=='state_'+str(state))[0][0]\n",
    "\n",
    "    x = np.zeros(len(X.columns))\n",
    "    x[0] = r_d_expenses\n",
    "    x[1] = administration_expenses\n",
    "    x[2] = marketing_expenses\n",
    "    if state_index >= 0:\n",
    "        x[state_index] = 1\n",
    "\n",
    "    return model_lr.predict([x])[0]"
   ]
  },
  {
   "cell_type": "code",
   "execution_count": 46,
   "id": "af26ab44",
   "metadata": {},
   "outputs": [
    {
     "data": {
      "text/plain": [
       "46085.717050666295"
      ]
     },
     "execution_count": 46,
     "metadata": {},
     "output_type": "execute_result"
    }
   ],
   "source": [
    "predict_profit(55493.95,103057.49,214634.81,'New York')"
   ]
  },
  {
   "cell_type": "markdown",
   "id": "9d051e3f",
   "metadata": {},
   "source": [
    "# Save Model"
   ]
  },
  {
   "cell_type": "code",
   "execution_count": 47,
   "id": "609f6e6e",
   "metadata": {},
   "outputs": [],
   "source": [
    "\n",
    "import pickle\n",
    "pickle.dump(model_lr,open('profit_prediction_model.pkl','wb'))"
   ]
  },
  {
   "cell_type": "code",
   "execution_count": null,
   "id": "a58ce290",
   "metadata": {},
   "outputs": [],
   "source": []
  }
 ],
 "metadata": {
  "kernelspec": {
   "display_name": "Python 3",
   "language": "python",
   "name": "python3"
  },
  "language_info": {
   "codemirror_mode": {
    "name": "ipython",
    "version": 3
   },
   "file_extension": ".py",
   "mimetype": "text/x-python",
   "name": "python",
   "nbconvert_exporter": "python",
   "pygments_lexer": "ipython3",
   "version": "3.8.8"
  }
 },
 "nbformat": 4,
 "nbformat_minor": 5
}
